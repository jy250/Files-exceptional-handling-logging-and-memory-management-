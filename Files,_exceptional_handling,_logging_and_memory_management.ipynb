{
  "nbformat": 4,
  "nbformat_minor": 0,
  "metadata": {
    "colab": {
      "provenance": []
    },
    "kernelspec": {
      "name": "python3",
      "display_name": "Python 3"
    },
    "language_info": {
      "name": "python"
    }
  },
  "cells": [
    {
      "cell_type": "code",
      "execution_count": null,
      "metadata": {
        "colab": {
          "base_uri": "https://localhost:8080/",
          "height": 72
        },
        "id": "N4Dt_c71dzUf",
        "outputId": "54ca8993-488e-46e7-e553-271b475fefd9"
      },
      "outputs": [
        {
          "output_type": "execute_result",
          "data": {
            "text/plain": [
              "'Compiled Languages\\nHow it works: Code is translated entirely into machine code before it runs, using a compiler.\\n\\nOutput: A standalone executable file (e.g., .exe, .out).\\n\\nExamples: C, C++, Rust, Go\\n\\n\\nCompiled Languages\\nHow it works: Code is translated entirely into machine code before it runs, using a compiler.\\n\\nOutput: A standalone executable file (e.g., .exe, .out).\\n\\nExamples: C, C++, Rust, Go\\n'"
            ],
            "application/vnd.google.colaboratory.intrinsic+json": {
              "type": "string"
            }
          },
          "metadata": {},
          "execution_count": 1
        }
      ],
      "source": [
        "# What is the difference between interpreted and compiled languages\n",
        "\"\"\"Compiled Languages\n",
        "How it works: Code is translated entirely into machine code before it runs, using a compiler.\n",
        "\n",
        "Output: A standalone executable file (e.g., .exe, .out).\n",
        "\n",
        "Examples: C, C++, Rust, Go\n",
        "\n",
        "\n",
        "Compiled Languages\n",
        "How it works: Code is translated entirely into machine code before it runs, using a compiler.\n",
        "\n",
        "Output: A standalone executable file (e.g., .exe, .out).\n",
        "\n",
        "Examples: C, C++, Rust, Go\n",
        "\"\"\""
      ]
    },
    {
      "cell_type": "code",
      "source": [
        "#  What is exception handling in Python\n",
        "\"\"\"Exception handling in Python is a mechanism that allows you to gracefully handle errors or unexpected conditions that occur during the execution of a program. Instead of crashing the program, Python lets you respond to the error and continue or exit cleanly.\n",
        "\"\"\""
      ],
      "metadata": {
        "colab": {
          "base_uri": "https://localhost:8080/",
          "height": 54
        },
        "id": "uXoGVzg4egml",
        "outputId": "a1b43bfe-fcd8-40f6-be55-dbc1edced1bd"
      },
      "execution_count": null,
      "outputs": [
        {
          "output_type": "execute_result",
          "data": {
            "text/plain": [
              "'Exception handling in Python is a mechanism that allows you to gracefully handle errors or unexpected conditions that occur during the execution of a program. Instead of crashing the program, Python lets you respond to the error and continue or exit cleanly.\\n'"
            ],
            "application/vnd.google.colaboratory.intrinsic+json": {
              "type": "string"
            }
          },
          "metadata": {},
          "execution_count": 2
        }
      ]
    },
    {
      "cell_type": "code",
      "source": [
        "# What is the purpose of the finally block in exception handling\n",
        "\"\"\"The finally block in exception handling is used to define a block of code that always executes, regardless of whether an exception was raised or not in the try block\n",
        "\"\"\""
      ],
      "metadata": {
        "colab": {
          "base_uri": "https://localhost:8080/",
          "height": 36
        },
        "id": "9MQRWneKeuiO",
        "outputId": "b8ef81e4-f054-4768-bf76-e71cca1ab7d7"
      },
      "execution_count": null,
      "outputs": [
        {
          "output_type": "execute_result",
          "data": {
            "text/plain": [
              "'The finally block in exception handling is used to define a block of code that always executes, regardless of whether an exception was raised or not in the try block\\n'"
            ],
            "application/vnd.google.colaboratory.intrinsic+json": {
              "type": "string"
            }
          },
          "metadata": {},
          "execution_count": 3
        }
      ]
    },
    {
      "cell_type": "code",
      "source": [
        "# What is logging in Python\n",
        "\"\"\"Logging in Python is a way to record messages that describe events happening while a program runs. Instead of using print(), the logging module provides a flexible system for tracking:\n",
        "\n",
        "Errors\n",
        "\n",
        "Warnings\n",
        "\n",
        "Informational messages\n",
        "\n",
        "Debugging details\n",
        "\n",
        "This helps in monitoring applications and diagnosing issues.\n",
        "\n",
        "\n",
        "\"\"\""
      ],
      "metadata": {
        "colab": {
          "base_uri": "https://localhost:8080/",
          "height": 54
        },
        "id": "CMe8zzM_e-iR",
        "outputId": "80597449-5cb3-4f1a-94e1-c934dc424a86"
      },
      "execution_count": null,
      "outputs": [
        {
          "output_type": "execute_result",
          "data": {
            "text/plain": [
              "'Logging in Python is a way to record messages that describe events happening while a program runs. Instead of using print(), the logging module provides a flexible system for tracking:\\n\\nErrors\\n\\nWarnings\\n\\nInformational messages\\n\\nDebugging details\\n\\nThis helps in monitoring applications and diagnosing issues.\\n\\n\\n'"
            ],
            "application/vnd.google.colaboratory.intrinsic+json": {
              "type": "string"
            }
          },
          "metadata": {},
          "execution_count": 4
        }
      ]
    },
    {
      "cell_type": "code",
      "source": [
        "#  What is the significance of the __del__ method in Python\n",
        "\"\"\"The __del__ method in Python is known as a destructor. It is a special method that's called when an object is about to be destroyed, typically when its reference count drops to zero and it's garbage collected.\n",
        "\"\"\""
      ],
      "metadata": {
        "colab": {
          "base_uri": "https://localhost:8080/",
          "height": 54
        },
        "id": "Bv2fHK-hfP_F",
        "outputId": "f56d1397-4540-4501-e17a-41ee26cf986d"
      },
      "execution_count": null,
      "outputs": [
        {
          "output_type": "execute_result",
          "data": {
            "text/plain": [
              "\"The __del__ method in Python is known as a destructor. It is a special method that's called when an object is about to be destroyed, typically when its reference count drops to zero and it's garbage collected.\\n\""
            ],
            "application/vnd.google.colaboratory.intrinsic+json": {
              "type": "string"
            }
          },
          "metadata": {},
          "execution_count": 6
        }
      ]
    },
    {
      "cell_type": "code",
      "source": [
        "#  What is the difference between import and from ... import in Python\n",
        "\"\"\"import module\n",
        "Imports the whole module.\n",
        "\n",
        "You access functions, classes, or variables using the module name as a prefix.\n",
        "\n",
        "\n",
        "from module import name\n",
        "Imports a specific part (function, class, variable) from a module.\n",
        "\n",
        "You can use it directly without the module prefix.\n",
        "\"\"\""
      ],
      "metadata": {
        "colab": {
          "base_uri": "https://localhost:8080/",
          "height": 54
        },
        "id": "wF4AGHKqfbKL",
        "outputId": "afa6e862-e490-4a0d-b1d9-823fdc0cb287"
      },
      "execution_count": null,
      "outputs": [
        {
          "output_type": "execute_result",
          "data": {
            "text/plain": [
              "'import module\\nImports the whole module.\\n\\nYou access functions, classes, or variables using the module name as a prefix.\\n\\n\\nfrom module import name\\nImports a specific part (function, class, variable) from a module.\\n\\nYou can use it directly without the module prefix.\\n'"
            ],
            "application/vnd.google.colaboratory.intrinsic+json": {
              "type": "string"
            }
          },
          "metadata": {},
          "execution_count": 7
        }
      ]
    },
    {
      "cell_type": "code",
      "source": [
        "#   How can you handle multiple exceptions in Python\n",
        "\"\"\"You can handle multiple exceptions in Python using a single except block.\n",
        "\"\"\""
      ],
      "metadata": {
        "colab": {
          "base_uri": "https://localhost:8080/",
          "height": 36
        },
        "id": "Dow8b0AagYwY",
        "outputId": "dc54726d-0d3e-4baa-851e-0effb943517e"
      },
      "execution_count": null,
      "outputs": [
        {
          "output_type": "execute_result",
          "data": {
            "text/plain": [
              "'You can handle multiple exceptions in Python using a single except block.\\n'"
            ],
            "application/vnd.google.colaboratory.intrinsic+json": {
              "type": "string"
            }
          },
          "metadata": {},
          "execution_count": 8
        }
      ]
    },
    {
      "cell_type": "code",
      "source": [
        "# What is the purpose of the with statement when handling files in Python\n",
        "\"\"\"he with statement in Python is used to simplify resource management, especially when handling files. Its main purposes are:\n",
        "\n",
        "Automatic Resource Management:\n",
        "It ensures that resources like file handles are properly acquired and released. When you're done with a file, the with block automatically closes it, even if an error occurs within the block.\n",
        "\n",
        "Cleaner Syntax:\n",
        "Using with eliminates the need to explicitly call file.close(). This reduces boilerplate and the risk of forgetting to close the file.\n",
        "\n",
        "Exception Safety:\n",
        "The file is closed correctly even if an exception is raised during file operations, preventing resource leaks.\n",
        "\n",
        "\n",
        "\"\"\""
      ],
      "metadata": {
        "colab": {
          "base_uri": "https://localhost:8080/",
          "height": 90
        },
        "id": "rFEsAEPWgm0y",
        "outputId": "5aff4183-97a1-4093-a3a8-63d08bae37c5"
      },
      "execution_count": null,
      "outputs": [
        {
          "output_type": "execute_result",
          "data": {
            "text/plain": [
              "\"he with statement in Python is used to simplify resource management, especially when handling files. Its main purposes are:\\n\\nAutomatic Resource Management:\\nIt ensures that resources like file handles are properly acquired and released. When you're done with a file, the with block automatically closes it, even if an error occurs within the block.\\n\\nCleaner Syntax:\\nUsing with eliminates the need to explicitly call file.close(). This reduces boilerplate and the risk of forgetting to close the file.\\n\\nException Safety:\\nThe file is closed correctly even if an exception is raised during file operations, preventing resource leaks.\\n\\n\\n\""
            ],
            "application/vnd.google.colaboratory.intrinsic+json": {
              "type": "string"
            }
          },
          "metadata": {},
          "execution_count": 9
        }
      ]
    },
    {
      "cell_type": "code",
      "source": [
        "#  What is the difference between multithreading and multiprocessing\n",
        "\"\"\"Feature\tMultithreading\tMultiprocessing\n",
        "Definition\tMultiple threads within the same process\tMultiple processes, each with its own Python interpreter\n",
        "Memory\tThreads share the same memory space\tProcesses have separate memory spaces\n",
        "Overhead\tLower (lightweight threads)\tHigher (independent processes)\n",
        "Best For\tI/O-bound tasks (e.g., network, file I/O)\tCPU-bound tasks (e.g., computations)\n",
        "GIL in Python\tAffected (threads can't run Python bytecode in parallel due to GIL)\tNot affected (each process has its own GIL)\n",
        "Communication\tVia shared memory (easier but can cause race conditions)\tVia IPC (inter-process communication), usually queues or pipes (more complex)\n",
        "\"\"\""
      ],
      "metadata": {
        "colab": {
          "base_uri": "https://localhost:8080/",
          "height": 90
        },
        "id": "uR7Wc8Y9g2Et",
        "outputId": "9eb2e173-78a3-48f9-922c-54eab0066996"
      },
      "execution_count": null,
      "outputs": [
        {
          "output_type": "execute_result",
          "data": {
            "text/plain": [
              "\"Feature\\tMultithreading\\tMultiprocessing\\nDefinition\\tMultiple threads within the same process\\tMultiple processes, each with its own Python interpreter\\nMemory\\tThreads share the same memory space\\tProcesses have separate memory spaces\\nOverhead\\tLower (lightweight threads)\\tHigher (independent processes)\\nBest For\\tI/O-bound tasks (e.g., network, file I/O)\\tCPU-bound tasks (e.g., computations)\\nGIL in Python\\tAffected (threads can't run Python bytecode in parallel due to GIL)\\tNot affected (each process has its own GIL)\\nCommunication\\tVia shared memory (easier but can cause race conditions)\\tVia IPC (inter-process communication), usually queues or pipes (more complex)\\n\""
            ],
            "application/vnd.google.colaboratory.intrinsic+json": {
              "type": "string"
            }
          },
          "metadata": {},
          "execution_count": 10
        }
      ]
    },
    {
      "cell_type": "code",
      "source": [
        "  # What are the advantages of using logging in a program\n",
        "  \"\"\"Debugging Aid\n",
        "Logging allows you to trace the flow of execution and inspect variable values without modifying your code to insert print statements.\n",
        "\n",
        "Error Tracking & Diagnosis\n",
        "Logs help identify when and where errors occur, often providing stack traces or contextual information for faster diagnosis.\n",
        "\n",
        "Monitoring & Observability\n",
        "In production, logs give insights into system behavior, performance, and usage patterns, aiding both monitoring and capacity planning.\n",
        "\n",
        "Auditing & Security\n",
        "Logging can track user actions, access attempts, and system events — crucial for audits, compliance, and forensic investigations.\n",
        "\n",
        "Postmortem Analysis\n",
        "Logs provide a historical record, making it possible to analyze issues that occurred in the past after the fact.\n",
        "\n",
        "Granularity & Control\n",
        "Logging frameworks (like Python's logging module) support levels (DEBUG, INFO, WARNING, ERROR, CRITICAL), giving fine-grained control over what gets recorded and allowing different handling for development vs. production.\n",
        "\n",
        "Non-intrusive\n",
        "Unlike print(), logging can be configured to write to files, remote servers, or monitoring tools without cluttering standard output.\n",
        "\n",
        "Performance Impact Management\n",
        "Logging can be filtered or disabled dynamically, avoiding the performance overhead of debugging output in production systems.\n",
        "  \"\"\""
      ],
      "metadata": {
        "colab": {
          "base_uri": "https://localhost:8080/",
          "height": 127
        },
        "id": "LlvoU9nnhDRH",
        "outputId": "c483658c-79d3-42a5-9980-cc461d4f68b4"
      },
      "execution_count": null,
      "outputs": [
        {
          "output_type": "execute_result",
          "data": {
            "text/plain": [
              "\"Debugging Aid\\nLogging allows you to trace the flow of execution and inspect variable values without modifying your code to insert print statements.\\n\\nError Tracking & Diagnosis\\nLogs help identify when and where errors occur, often providing stack traces or contextual information for faster diagnosis.\\n\\nMonitoring & Observability\\nIn production, logs give insights into system behavior, performance, and usage patterns, aiding both monitoring and capacity planning.\\n\\nAuditing & Security\\nLogging can track user actions, access attempts, and system events — crucial for audits, compliance, and forensic investigations.\\n\\nPostmortem Analysis\\nLogs provide a historical record, making it possible to analyze issues that occurred in the past after the fact.\\n\\nGranularity & Control\\nLogging frameworks (like Python's logging module) support levels (DEBUG, INFO, WARNING, ERROR, CRITICAL), giving fine-grained control over what gets recorded and allowing different handling for development vs. production.\\n\\nNon-intrusive\\nUnlike print(), logging can be configured to write to files, remote servers, or monitoring tools without cluttering standard output.\\n\\nPerformance Impact Management\\nLogging can be filtered or disabled dynamically, avoiding the performance overhead of debugging output in production systems.\\n\""
            ],
            "application/vnd.google.colaboratory.intrinsic+json": {
              "type": "string"
            }
          },
          "metadata": {},
          "execution_count": 11
        }
      ]
    },
    {
      "cell_type": "code",
      "source": [
        "# What is memory management in Python\n",
        "\"\"\"Memory management in Python refers to how Python handles the allocation, use, and release of memory during program execution. Here are the key aspects:\n",
        "\n",
        "Automatic Memory Management\n",
        "Python uses automatic memory management, meaning you don't have to manually allocate or free memory. This is handled by Python’s internal mechanisms.\n",
        "\n",
        "Reference Counting\n",
        "Python keeps track of the number of references to each object in memory. When an object’s reference count drops to zero, it means no one is using it, so Python deallocates (frees) the memory.\n",
        "\n",
        "Garbage Collection (GC)\n",
        "Besides reference counting, Python uses a garbage collector to clean up objects involved in circular references (where two or more objects reference each other but are otherwise unreachable).\n",
        "\n",
        "Memory Pools (PyMalloc)\n",
        "Python uses a private heap managed by the Python memory manager. Within this, it uses PyMalloc, a specialized allocator for small objects, to optimize performance.\n",
        "\n",
        "Dynamic Typing\n",
        "Python’s dynamic typing affects memory usage because types and sizes of objects are determined at runtime.\n",
        "\n",
        "\n",
        "\"\"\""
      ],
      "metadata": {
        "colab": {
          "base_uri": "https://localhost:8080/",
          "height": 127
        },
        "id": "vLp3ZL_ZhR2N",
        "outputId": "1a629164-65ee-4cce-f4c2-cb37f42d79e4"
      },
      "execution_count": null,
      "outputs": [
        {
          "output_type": "execute_result",
          "data": {
            "text/plain": [
              "\"Memory management in Python refers to how Python handles the allocation, use, and release of memory during program execution. Here are the key aspects:\\n\\nAutomatic Memory Management\\nPython uses automatic memory management, meaning you don't have to manually allocate or free memory. This is handled by Python’s internal mechanisms.\\n\\nReference Counting\\nPython keeps track of the number of references to each object in memory. When an object’s reference count drops to zero, it means no one is using it, so Python deallocates (frees) the memory.\\n\\nGarbage Collection (GC)\\nBesides reference counting, Python uses a garbage collector to clean up objects involved in circular references (where two or more objects reference each other but are otherwise unreachable).\\n\\nMemory Pools (PyMalloc)\\nPython uses a private heap managed by the Python memory manager. Within this, it uses PyMalloc, a specialized allocator for small objects, to optimize performance.\\n\\nDynamic Typing\\nPython’s dynamic typing affects memory usage because types and sizes of objects are determined at runtime.\\n\\n\\n\""
            ],
            "application/vnd.google.colaboratory.intrinsic+json": {
              "type": "string"
            }
          },
          "metadata": {},
          "execution_count": 12
        }
      ]
    },
    {
      "cell_type": "code",
      "source": [
        "# What are the basic steps involved in exception handling in Python\n",
        "\"\"\"Try Block — Write the code that might raise an exception inside a try block.\n",
        "  Except Block(s) — Handle specific exceptions (or all exceptions) using except blocks\n",
        "  Else Block (Optional) — Run code if no exceptions were raised.\n",
        "\n",
        "  Finally Block (Optional) — Run code regardless of whether an exception was raised or not.\n",
        "\"\"\""
      ],
      "metadata": {
        "colab": {
          "base_uri": "https://localhost:8080/",
          "height": 54
        },
        "id": "YPOH4Cjbhi1A",
        "outputId": "cd74aa33-7134-4dc0-d9c3-0f4b800ab379"
      },
      "execution_count": null,
      "outputs": [
        {
          "output_type": "execute_result",
          "data": {
            "text/plain": [
              "'Try Block — Write the code that might raise an exception inside a try block.\\n  Except Block(s) — Handle specific exceptions (or all exceptions) using except blocks\\n  Else Block (Optional) — Run code if no exceptions were raised.\\n  \\n  Finally Block (Optional) — Run code regardless of whether an exception was raised or not.\\n'"
            ],
            "application/vnd.google.colaboratory.intrinsic+json": {
              "type": "string"
            }
          },
          "metadata": {},
          "execution_count": 13
        }
      ]
    },
    {
      "cell_type": "code",
      "source": [
        "# Why is memory management important in Python\n",
        "\"\"\"Memory management is important in Python for several key reasons:\n",
        "\n",
        "Performance Efficiency\n",
        "Proper memory management ensures that programs run efficiently without using more memory than necessary. Poor memory handling can lead to slowdowns or crashes due to excessive memory use.\n",
        "\n",
        "Garbage Collection\n",
        "Python uses automatic garbage collection to reclaim memory used by objects that are no longer needed. Understanding how this works helps developers avoid unintended memory leaks, especially with circular references or holding references in global scopes.\n",
        "\n",
        "Resource Limitation\n",
        "Systems have limited memory. Programs that manage memory poorly may consume too much, affecting other applications or even causing the system to become unstable.\n",
        "\n",
        "Scalability\n",
        "Applications that handle large data sets, like web servers or data processing tools, need efficient memory use to scale properly under load.\n",
        "\n",
        "Avoiding Memory Leaks\n",
        "Even though Python manages memory automatically, developers can still create memory leaks by holding references to objects longer than needed, such as with global variables, caches, or lingering event listeners.\n",
        "\n",
        "Control Over Lifetime of Objects\n",
        "Understanding memory management allows developers to design objects and structures whose lifetimes are predictable, which is critical in systems with tight resource constraints or high reliability requirements.\n",
        "\"\"\""
      ],
      "metadata": {
        "colab": {
          "base_uri": "https://localhost:8080/",
          "height": 127
        },
        "id": "W4Z4QbyhiDmd",
        "outputId": "ca3a994d-299b-4438-c784-92b129195ed6"
      },
      "execution_count": null,
      "outputs": [
        {
          "output_type": "execute_result",
          "data": {
            "text/plain": [
              "'Memory management is important in Python for several key reasons:\\n\\nPerformance Efficiency\\nProper memory management ensures that programs run efficiently without using more memory than necessary. Poor memory handling can lead to slowdowns or crashes due to excessive memory use.\\n\\nGarbage Collection\\nPython uses automatic garbage collection to reclaim memory used by objects that are no longer needed. Understanding how this works helps developers avoid unintended memory leaks, especially with circular references or holding references in global scopes.\\n\\nResource Limitation\\nSystems have limited memory. Programs that manage memory poorly may consume too much, affecting other applications or even causing the system to become unstable.\\n\\nScalability\\nApplications that handle large data sets, like web servers or data processing tools, need efficient memory use to scale properly under load.\\n\\nAvoiding Memory Leaks\\nEven though Python manages memory automatically, developers can still create memory leaks by holding references to objects longer than needed, such as with global variables, caches, or lingering event listeners.\\n\\nControl Over Lifetime of Objects\\nUnderstanding memory management allows developers to design objects and structures whose lifetimes are predictable, which is critical in systems with tight resource constraints or high reliability requirements.\\n'"
            ],
            "application/vnd.google.colaboratory.intrinsic+json": {
              "type": "string"
            }
          },
          "metadata": {},
          "execution_count": 14
        }
      ]
    },
    {
      "cell_type": "code",
      "source": [
        "# What is the role of try and except in exception handling\n",
        "\"\"\"The try and except blocks in Python are used for exception handling, which helps you manage errors that occur during program execution without crashing the program\n",
        "\"\"\""
      ],
      "metadata": {
        "colab": {
          "base_uri": "https://localhost:8080/",
          "height": 36
        },
        "id": "3jAV2aLYiQaN",
        "outputId": "4ee1321b-1318-4b7f-d5b8-13c3ac19d619"
      },
      "execution_count": null,
      "outputs": [
        {
          "output_type": "execute_result",
          "data": {
            "text/plain": [
              "'The try and except blocks in Python are used for exception handling, which helps you manage errors that occur during program execution without crashing the program\\n'"
            ],
            "application/vnd.google.colaboratory.intrinsic+json": {
              "type": "string"
            }
          },
          "metadata": {},
          "execution_count": 15
        }
      ]
    },
    {
      "cell_type": "code",
      "source": [
        "# How does Python's garbage collection system work\n",
        "\"\"\"Python’s garbage collection system primarily manages memory by cleaning up unused objects. It works through two main mechanisms:\n",
        "\"\"\""
      ],
      "metadata": {
        "colab": {
          "base_uri": "https://localhost:8080/",
          "height": 36
        },
        "id": "EAQdwpx5ia3B",
        "outputId": "195e5632-81d5-4904-921e-75e7099178cb"
      },
      "execution_count": null,
      "outputs": [
        {
          "output_type": "execute_result",
          "data": {
            "text/plain": [
              "'Python’s garbage collection system primarily manages memory by cleaning up unused objects. It works through two main mechanisms:\\n'"
            ],
            "application/vnd.google.colaboratory.intrinsic+json": {
              "type": "string"
            }
          },
          "metadata": {},
          "execution_count": 16
        }
      ]
    },
    {
      "cell_type": "code",
      "source": [
        "# What is the purpose of the else block in exception handling\n",
        "\"\"\"n Python's exception handling, the else block serves a specific purpose:\n",
        "\n",
        "The else block runs only if no exceptions are raised in the try block.\n",
        "\n",
        "It is used for code that should execute only when the try block succeeds, and not when an exception is caught.\n",
        "\n",
        "This helps separate the \"successful case\" logic from the error-handling logic\n",
        "\"\"\""
      ],
      "metadata": {
        "colab": {
          "base_uri": "https://localhost:8080/",
          "height": 54
        },
        "id": "sqpWwS1uin_C",
        "outputId": "19c17789-d235-42fd-e25f-e2d6c478bc1f"
      },
      "execution_count": null,
      "outputs": [
        {
          "output_type": "execute_result",
          "data": {
            "text/plain": [
              "'n Python\\'s exception handling, the else block serves a specific purpose:\\n\\nThe else block runs only if no exceptions are raised in the try block.\\n\\nIt is used for code that should execute only when the try block succeeds, and not when an exception is caught.\\n\\nThis helps separate the \"successful case\" logic from the error-handling logic\\n'"
            ],
            "application/vnd.google.colaboratory.intrinsic+json": {
              "type": "string"
            }
          },
          "metadata": {},
          "execution_count": 18
        }
      ]
    },
    {
      "cell_type": "code",
      "source": [
        "# What are the common logging levels in Python\n",
        "\"\"\"In Python's built-in logging module, the common logging levels (from highest to lowest severity) are:\n",
        "\n",
        "Level Name\tNumeric Value\tPurpose\n",
        "CRITICAL\t50\tVery serious errors — program may be unable to continue.\n",
        "ERROR\t40\tSerious errors — a function has failed.\n",
        "WARNING\t30\tUnexpected events or conditions — not necessarily an error.\n",
        "INFO\t20\tGeneral information about program execution.\n",
        "DEBUG\t10\tDetailed information, useful for debugging.\n",
        "NOTSET\t0\tSpecial level — no specific severity; used to disable or propagate.\n",
        "\"\"\""
      ],
      "metadata": {
        "colab": {
          "base_uri": "https://localhost:8080/",
          "height": 90
        },
        "id": "EA4equnmivPM",
        "outputId": "b05c1317-ae35-4aef-b56d-d73b4809b95c"
      },
      "execution_count": null,
      "outputs": [
        {
          "output_type": "execute_result",
          "data": {
            "text/plain": [
              "\"In Python's built-in logging module, the common logging levels (from highest to lowest severity) are:\\n\\nLevel Name\\tNumeric Value\\tPurpose\\nCRITICAL\\t50\\tVery serious errors — program may be unable to continue.\\nERROR\\t40\\tSerious errors — a function has failed.\\nWARNING\\t30\\tUnexpected events or conditions — not necessarily an error.\\nINFO\\t20\\tGeneral information about program execution.\\nDEBUG\\t10\\tDetailed information, useful for debugging.\\nNOTSET\\t0\\tSpecial level — no specific severity; used to disable or propagate.\\n\""
            ],
            "application/vnd.google.colaboratory.intrinsic+json": {
              "type": "string"
            }
          },
          "metadata": {},
          "execution_count": 19
        }
      ]
    },
    {
      "cell_type": "code",
      "source": [
        " # What is the difference between os.fork() and multiprocessing in Python.fork() and multiprocessing in Python\n",
        " \"\"\"Feature\tos.fork()\tmultiprocessing\n",
        "What it does\tDirectly creates a child process by duplicating the current process\tSpawns a new Python process with separate memory space\n",
        "Availability\tOnly on Unix/Linux\tCross-platform (Unix, Linux, Windows, macOS)\n",
        "Memory sharing\tChild is a copy-on-write clone; shares file descriptors, etc.\tEach process has its own Python interpreter and memory space\n",
        "API Level\tLow-level system call\tHigh-level Python API with Process, Pool, Queue\n",
        "Ease of use\tManual management of pipes, file descriptors, signals\tSimplified with classes like Process, Queue, Pipe\n",
        "Use cases\tWhen you want a raw Unix-style fork and control IPC yourself\tWhen you want portable multiprocessing with Python objects\n",
        "Thread safety\tMust handle carefully\tBuilt-in mechanisms (safe queues, etc.)\n",
        "Recommended for Python apps?\tRarely — better for specialized system-level tasks\tYes — standard for parallel execution in Python apps\n",
        " \"\"\""
      ],
      "metadata": {
        "colab": {
          "base_uri": "https://localhost:8080/",
          "height": 126
        },
        "id": "ijelkPr9jRgf",
        "outputId": "e1b125ed-8ab2-420e-87cc-4b2cd81b35a2"
      },
      "execution_count": null,
      "outputs": [
        {
          "output_type": "execute_result",
          "data": {
            "text/plain": [
              "'Feature\\tos.fork()\\tmultiprocessing\\nWhat it does\\tDirectly creates a child process by duplicating the current process\\tSpawns a new Python process with separate memory space\\nAvailability\\tOnly on Unix/Linux\\tCross-platform (Unix, Linux, Windows, macOS)\\nMemory sharing\\tChild is a copy-on-write clone; shares file descriptors, etc.\\tEach process has its own Python interpreter and memory space\\nAPI Level\\tLow-level system call\\tHigh-level Python API with Process, Pool, Queue\\nEase of use\\tManual management of pipes, file descriptors, signals\\tSimplified with classes like Process, Queue, Pipe\\nUse cases\\tWhen you want a raw Unix-style fork and control IPC yourself\\tWhen you want portable multiprocessing with Python objects\\nThread safety\\tMust handle carefully\\tBuilt-in mechanisms (safe queues, etc.)\\nRecommended for Python apps?\\tRarely — better for specialized system-level tasks\\tYes — standard for parallel execution in Python apps\\n'"
            ],
            "application/vnd.google.colaboratory.intrinsic+json": {
              "type": "string"
            }
          },
          "metadata": {},
          "execution_count": 21
        }
      ]
    },
    {
      "cell_type": "code",
      "source": [
        "# What is the importance of closing a file in Python\n",
        "\"\"\"Closing a file in Python is important for several reasons:\n",
        "\n",
        "Resource Management\n",
        "Files consume system resources. If you don’t close a file, the program may hold on to those resources (like file handles), which could eventually exhaust them if many files are opened.\n",
        "\n",
        "Data Integrity (especially when writing)\n",
        "When writing to a file, data is often buffered — meaning it's stored temporarily in memory before being written to disk. Closing the file flushes this buffer and ensures all data is actually written to the file.\n",
        "\n",
        "File Locking & Access\n",
        "Some operating systems lock a file while it’s open. If you don’t close it, other processes or users may be unable to access or modify the file.\n",
        "\n",
        "Preventing Bugs\n",
        "Forgetting to close files can lead to subtle bugs, like incomplete writes or unexpected file behavior, especially in larger applications.\n",
        "\"\"\""
      ],
      "metadata": {
        "colab": {
          "base_uri": "https://localhost:8080/",
          "height": 108
        },
        "id": "NhROxL4ojlJW",
        "outputId": "8c0b10f2-29ec-48f1-ed0e-da16db6c71d5"
      },
      "execution_count": null,
      "outputs": [
        {
          "output_type": "execute_result",
          "data": {
            "text/plain": [
              "\"Closing a file in Python is important for several reasons:\\n\\nResource Management\\nFiles consume system resources. If you don’t close a file, the program may hold on to those resources (like file handles), which could eventually exhaust them if many files are opened.\\n\\nData Integrity (especially when writing)\\nWhen writing to a file, data is often buffered — meaning it's stored temporarily in memory before being written to disk. Closing the file flushes this buffer and ensures all data is actually written to the file.\\n\\nFile Locking & Access\\nSome operating systems lock a file while it’s open. If you don’t close it, other processes or users may be unable to access or modify the file.\\n\\nPreventing Bugs\\nForgetting to close files can lead to subtle bugs, like incomplete writes or unexpected file behavior, especially in larger applications.\\n\""
            ],
            "application/vnd.google.colaboratory.intrinsic+json": {
              "type": "string"
            }
          },
          "metadata": {},
          "execution_count": 22
        }
      ]
    },
    {
      "cell_type": "code",
      "source": [
        "# What is the difference between file.read() and file.readline() in Python\n",
        "\"\"\"In Python, when working with files:\n",
        "\n",
        "file.read()\n",
        "\n",
        "Reads the entire contents of the file (or the rest of it if the file pointer isn’t at the start) as a single string.\n",
        "file.readline()\n",
        "\n",
        "Reads a single line from the file.\n",
        "\n",
        "\"\"\""
      ],
      "metadata": {
        "colab": {
          "base_uri": "https://localhost:8080/",
          "height": 54
        },
        "id": "tWrV8AxZkAG6",
        "outputId": "53464fd8-6ad9-4a27-9c37-b0a2a83bac34"
      },
      "execution_count": null,
      "outputs": [
        {
          "output_type": "execute_result",
          "data": {
            "text/plain": [
              "'In Python, when working with files:\\n\\nfile.read()\\n\\nReads the entire contents of the file (or the rest of it if the file pointer isn’t at the start) as a single string.\\nfile.readline()\\n\\nReads a single line from the file.\\n\\n'"
            ],
            "application/vnd.google.colaboratory.intrinsic+json": {
              "type": "string"
            }
          },
          "metadata": {},
          "execution_count": 23
        }
      ]
    },
    {
      "cell_type": "code",
      "source": [
        "# What is the logging module in Python used for\n",
        "\"\"\"The logging module in Python is used for tracking events that happen when your software runs. It’s a flexible system for creating log messages, which can help with:\n",
        "\n",
        "Debugging: Understanding what’s happening inside your code.\n",
        "\n",
        "Monitoring: Keeping track of application behavior in production.\n",
        "\n",
        "Auditing: Recording events for compliance or review.\n",
        "\n",
        "Error Reporting: Capturing error messages and stack traces.\n",
        "\"\"\""
      ],
      "metadata": {
        "colab": {
          "base_uri": "https://localhost:8080/",
          "height": 72
        },
        "id": "IdLMeMGHkU3I",
        "outputId": "b529670e-59b8-4d45-fe10-d6544681bdbf"
      },
      "execution_count": null,
      "outputs": [
        {
          "output_type": "execute_result",
          "data": {
            "text/plain": [
              "'The logging module in Python is used for tracking events that happen when your software runs. It’s a flexible system for creating log messages, which can help with:\\n\\nDebugging: Understanding what’s happening inside your code.\\n\\nMonitoring: Keeping track of application behavior in production.\\n\\nAuditing: Recording events for compliance or review.\\n\\nError Reporting: Capturing error messages and stack traces.\\n'"
            ],
            "application/vnd.google.colaboratory.intrinsic+json": {
              "type": "string"
            }
          },
          "metadata": {},
          "execution_count": 24
        }
      ]
    },
    {
      "cell_type": "code",
      "source": [
        "# What is the os module in Python used for in file handling\n",
        "\"\"\"The os module in Python provides functions for interacting with the operating system, particularly for tasks related to file and directory handling. When it comes to file handling, the os module is commonly used for:\n",
        "\"\"\""
      ],
      "metadata": {
        "colab": {
          "base_uri": "https://localhost:8080/",
          "height": 54
        },
        "id": "60c7xbLskrF1",
        "outputId": "9c7a6d11-c81a-4b60-9d03-1c7cb617af10"
      },
      "execution_count": null,
      "outputs": [
        {
          "output_type": "execute_result",
          "data": {
            "text/plain": [
              "'The os module in Python provides functions for interacting with the operating system, particularly for tasks related to file and directory handling. When it comes to file handling, the os module is commonly used for:\\n'"
            ],
            "application/vnd.google.colaboratory.intrinsic+json": {
              "type": "string"
            }
          },
          "metadata": {},
          "execution_count": 25
        }
      ]
    },
    {
      "cell_type": "code",
      "source": [
        "# What are the challenges associated with memory management in Python\n",
        "\"\"\"Memory management in Python is mostly handled by the interpreter, but there are still several important challenges and caveats developers should be aware of\n",
        "\"\"\""
      ],
      "metadata": {
        "colab": {
          "base_uri": "https://localhost:8080/",
          "height": 36
        },
        "id": "kv3CgzKglCZ4",
        "outputId": "1abb8490-1823-4d11-b8c6-e6cfd35508a6"
      },
      "execution_count": null,
      "outputs": [
        {
          "output_type": "execute_result",
          "data": {
            "text/plain": [
              "'Memory management in Python is mostly handled by the interpreter, but there are still several important challenges and caveats developers should be aware of\\n'"
            ],
            "application/vnd.google.colaboratory.intrinsic+json": {
              "type": "string"
            }
          },
          "metadata": {},
          "execution_count": 26
        }
      ]
    },
    {
      "cell_type": "code",
      "source": [
        "# How do you raise an exception manually in Python\n",
        "\"\"\"In Python, you can raise an exception manually using the raise statement. The syntax is:\n",
        "\n",
        "python\n",
        "Copy\n",
        "Edit\n",
        "\n",
        "\"\"\""
      ],
      "metadata": {
        "colab": {
          "base_uri": "https://localhost:8080/",
          "height": 36
        },
        "id": "6c9FB-YalQZZ",
        "outputId": "2da83082-ac51-4b9b-b845-a98ade0ca461"
      },
      "execution_count": null,
      "outputs": [
        {
          "output_type": "execute_result",
          "data": {
            "text/plain": [
              "'In Python, you can raise an exception manually using the raise statement. The syntax is:\\n\\npython\\nCopy\\nEdit\\n\\n'"
            ],
            "application/vnd.google.colaboratory.intrinsic+json": {
              "type": "string"
            }
          },
          "metadata": {},
          "execution_count": 27
        }
      ]
    },
    {
      "cell_type": "code",
      "source": [
        "# Why is it important to use multithreading in certain applications\n",
        "\"\"\"Using multithreading is important in certain applications because it allows a program to perform multiple tasks simultaneously, which can lead to significant benefits depending on the type of application. Here are the main reasons:\n",
        "\n",
        "Improved Performance on Multi-Core Systems\n",
        "Multithreading lets you utilize multiple CPU cores efficiently. For CPU-bound tasks (like heavy calculations), dividing the work across threads can decrease total execution time.\n",
        "\n",
        "Responsiveness in User Interfaces\n",
        "In applications with graphical user interfaces (GUIs), multithreading ensures the UI remains responsive while background tasks (e.g., file loading, network calls) run on separate threads.\n",
        "\n",
        "Concurrent I/O Operations\n",
        "In I/O-bound applications (like servers, network apps, or file handlers), multithreading allows the program to handle multiple I/O operations concurrently without blocking the main execution thread.\n",
        "\n",
        "Simplified Asynchronous Design\n",
        "Multithreading can simplify handling asynchronous events by logically separating tasks into different threads, making the flow easier to manage in some cases.\n",
        "\n",
        "Parallelism in Real-Time Applications\n",
        "Applications like gaming, simulations, and real-time data processing benefit from parallel execution of tasks such as rendering, physics calculations, and input handling.\n",
        "\n",
        "\n",
        "\"\"\""
      ],
      "metadata": {
        "colab": {
          "base_uri": "https://localhost:8080/",
          "height": 127
        },
        "id": "63Xb_ajVli8P",
        "outputId": "463eaf92-c180-4fd5-a63c-4a31717c3645"
      },
      "execution_count": null,
      "outputs": [
        {
          "output_type": "execute_result",
          "data": {
            "text/plain": [
              "'Using multithreading is important in certain applications because it allows a program to perform multiple tasks simultaneously, which can lead to significant benefits depending on the type of application. Here are the main reasons:\\n\\nImproved Performance on Multi-Core Systems\\nMultithreading lets you utilize multiple CPU cores efficiently. For CPU-bound tasks (like heavy calculations), dividing the work across threads can decrease total execution time.\\n\\nResponsiveness in User Interfaces\\nIn applications with graphical user interfaces (GUIs), multithreading ensures the UI remains responsive while background tasks (e.g., file loading, network calls) run on separate threads.\\n\\nConcurrent I/O Operations\\nIn I/O-bound applications (like servers, network apps, or file handlers), multithreading allows the program to handle multiple I/O operations concurrently without blocking the main execution thread.\\n\\nSimplified Asynchronous Design\\nMultithreading can simplify handling asynchronous events by logically separating tasks into different threads, making the flow easier to manage in some cases.\\n\\nParallelism in Real-Time Applications\\nApplications like gaming, simulations, and real-time data processing benefit from parallel execution of tasks such as rendering, physics calculations, and input handling.\\n\\n\\n'"
            ],
            "application/vnd.google.colaboratory.intrinsic+json": {
              "type": "string"
            }
          },
          "metadata": {},
          "execution_count": 28
        }
      ]
    },
    {
      "cell_type": "code",
      "source": [],
      "metadata": {
        "id": "f-ib8-j0l2Hh"
      },
      "execution_count": null,
      "outputs": []
    },
    {
      "cell_type": "markdown",
      "source": [
        "# ***Practical*** Questions"
      ],
      "metadata": {
        "id": "gZSPmHsimAKL"
      }
    },
    {
      "cell_type": "code",
      "source": [
        "#(1) To open a file for writing in Python and write a string to it, you can use the built-in open() function with mode \"w\" (write mode). Here's how:\n",
        "# Open the file in write mode ('w')\n",
        "with open('example.txt', 'w') as file:\n",
        "    file.write('Hello, this is a test string.')\n",
        "\n",
        "\n"
      ],
      "metadata": {
        "id": "sn68GwNnsEbi"
      },
      "execution_count": null,
      "outputs": []
    },
    {
      "cell_type": "code",
      "source": [
        "def read_and_print_file(filename):\n",
        "    try:\n",
        "        with open(filename, 'r') as file:\n",
        "            for line in file:\n",
        "                print(line.rstrip())\n",
        "    except FileNotFoundError:\n",
        "        print(f\"Error: The file '{filename}' was not found.\")\n",
        "    except Exception as e:\n",
        "        print(f\"An error occurred: {e}\")\n",
        "\n",
        "# Example usage\n",
        "filename = 'example.txt'  # Replace with your file name\n",
        "read_and_print_file(filename)"
      ],
      "metadata": {
        "colab": {
          "base_uri": "https://localhost:8080/"
        },
        "id": "9Rl1VXZesVS2",
        "outputId": "8e8ce030-6a86-4235-b210-4367e67abf0d"
      },
      "execution_count": null,
      "outputs": [
        {
          "output_type": "stream",
          "name": "stdout",
          "text": [
            "Hello, this is a test string.\n"
          ]
        }
      ]
    },
    {
      "cell_type": "code",
      "source": [
        "try:\n",
        "    with open('myfile.txt', 'r') as f:\n",
        "        data = f.read()\n",
        "except FileNotFoundError:\n",
        "    print(\"Error: The file does not exist.\")\n"
      ],
      "metadata": {
        "colab": {
          "base_uri": "https://localhost:8080/"
        },
        "id": "Je-3L4u7swgc",
        "outputId": "eaa46782-f4d4-4f54-e577-bf8d8bbe1e47"
      },
      "execution_count": null,
      "outputs": [
        {
          "output_type": "stream",
          "name": "stdout",
          "text": [
            "Error: The file does not exist.\n"
          ]
        }
      ]
    },
    {
      "cell_type": "code",
      "source": [
        "def copy_file(source_file, destination_file):\n",
        "    try:\n",
        "        with open(source_file, 'r') as src:\n",
        "            content = src.read()\n",
        "        with open(destination_file, 'w') as dst:\n",
        "            dst.write(content)\n",
        "        print(f\"Content copied from '{source_file}' to '{destination_file}'.\")\n",
        "    except FileNotFoundError:\n",
        "        print(f\"Error: '{source_file}' does not exist.\")\n",
        "    except Exception as e:\n",
        "        print(f\"An error occurred: {e}\")\n",
        "\n",
        "# Example usage\n",
        "copy_file('input.txt', 'output.txt')\n"
      ],
      "metadata": {
        "colab": {
          "base_uri": "https://localhost:8080/"
        },
        "id": "QsCF2axqs_zO",
        "outputId": "b27d5f32-d92e-478c-f330-dcaa1cb83698"
      },
      "execution_count": null,
      "outputs": [
        {
          "output_type": "stream",
          "name": "stdout",
          "text": [
            "Error: 'input.txt' does not exist.\n"
          ]
        }
      ]
    },
    {
      "cell_type": "code",
      "source": [
        "try:\n",
        "    result = 10 / 0\n",
        "except ZeroDivisionError:\n",
        "    print(\"Error: Division by zero is not allowed.\")\n",
        "    result = None  # or any default/fallback value\n",
        "\n",
        "print(f\"Result is: {result}\")\n"
      ],
      "metadata": {
        "colab": {
          "base_uri": "https://localhost:8080/"
        },
        "id": "Rb0DvbLotO8d",
        "outputId": "4c2dd1e5-a4f4-4245-9cd9-26a1216cd1e5"
      },
      "execution_count": null,
      "outputs": [
        {
          "output_type": "stream",
          "name": "stdout",
          "text": [
            "Error: Division by zero is not allowed.\n",
            "Result is: None\n"
          ]
        }
      ]
    },
    {
      "cell_type": "code",
      "source": [
        "#(2)Write a Python program to read the contents of a file and print each line\n",
        "# File: read_file.py\n",
        "\n",
        "try:\n",
        "    with open('filename.txt', 'r') as file:\n",
        "        for line in file:\n",
        "            print(line.strip())\n",
        "except FileNotFoundError:\n",
        "    print(\"Error: The file 'filename.txt' was not found.\")"
      ],
      "metadata": {
        "id": "Pb0aS5LdtWIP",
        "colab": {
          "base_uri": "https://localhost:8080/"
        },
        "outputId": "aa21e5e1-b0fb-42ce-b9dd-af8f396478d6"
      },
      "execution_count": 3,
      "outputs": [
        {
          "output_type": "stream",
          "name": "stdout",
          "text": [
            "Error: The file 'filename.txt' was not found.\n"
          ]
        }
      ]
    },
    {
      "cell_type": "code",
      "source": [
        "#(3) How would you handle a case where the file doesn't exist while trying to open it for reading\n",
        "try:\n",
        "    with open('filename.txt', 'r') as file:\n",
        "        data = file.read()\n",
        "except FileNotFoundError:\n",
        "    print(\"File not found.\")\n",
        "\n"
      ],
      "metadata": {
        "colab": {
          "base_uri": "https://localhost:8080/"
        },
        "id": "titHCbeA8INo",
        "outputId": "8bbc3826-40d7-4780-9f00-4d767f957385"
      },
      "execution_count": 4,
      "outputs": [
        {
          "output_type": "stream",
          "name": "stdout",
          "text": [
            "File not found.\n"
          ]
        }
      ]
    },
    {
      "cell_type": "code",
      "source": [
        "#(4)Write a Python script that reads from one file and writes its content to another file\n",
        "try:\n",
        "    with open('source.txt', 'r') as src, open('destination.txt', 'w') as dst:\n",
        "        dst.write(src.read())\n",
        "except FileNotFoundError:\n",
        "    print(\"Error: The file 'source.txt' was not found.\")"
      ],
      "metadata": {
        "colab": {
          "base_uri": "https://localhost:8080/"
        },
        "id": "IxMve6Uh8550",
        "outputId": "19e51bd8-16db-4ffa-c974-e37fde777442"
      },
      "execution_count": 6,
      "outputs": [
        {
          "output_type": "stream",
          "name": "stdout",
          "text": [
            "Error: The file 'source.txt' was not found.\n"
          ]
        }
      ]
    },
    {
      "cell_type": "code",
      "source": [
        "#(5)How would you catch and handle division by zero error in Python\n",
        "try:\n",
        "    result = 10 / 0\n",
        "except ZeroDivisionError:\n",
        "    print(\"You can't divide by zero!\")\n",
        "else:\n",
        "    print(\"Result:\", result)\n",
        "finally:\n",
        "    print(\"This block always runs.\")\n"
      ],
      "metadata": {
        "colab": {
          "base_uri": "https://localhost:8080/"
        },
        "id": "r9_V19j49afP",
        "outputId": "21e29905-3c11-441d-d87a-47cd500bcd43"
      },
      "execution_count": 7,
      "outputs": [
        {
          "output_type": "stream",
          "name": "stdout",
          "text": [
            "You can't divide by zero!\n",
            "This block always runs.\n"
          ]
        }
      ]
    },
    {
      "cell_type": "code",
      "source": [
        "#(6)Write a Python program that logs an error message to a log file when a division by zero exception occurs\n",
        "import logging\n",
        "\n",
        "logging.basicConfig(filename='log.txt', level=logging.ERROR)\n",
        "\n",
        "try:\n",
        "    result = 10 / 0\n",
        "except ZeroDivisionError as e:\n",
        "    logging.error(\"Division by zero error: %s\", e)\n"
      ],
      "metadata": {
        "colab": {
          "base_uri": "https://localhost:8080/"
        },
        "id": "iUAVc6gs92Hl",
        "outputId": "76e2ce16-6844-4785-e6dd-2b58321677de"
      },
      "execution_count": 8,
      "outputs": [
        {
          "output_type": "stream",
          "name": "stderr",
          "text": [
            "ERROR:root:Division by zero error: division by zero\n"
          ]
        }
      ]
    },
    {
      "cell_type": "code",
      "source": [
        "#(7)How do you log information at different levels (INFO, ERROR, WARNING) in Python using the logging module\n",
        "import logging\n",
        "\n",
        "logging.basicConfig(level=logging.INFO)\n",
        "\n",
        "logging.info(\"This is an info message\")\n",
        "logging.warning(\"This is a warning\")\n",
        "logging.error(\"This is an error\")\n"
      ],
      "metadata": {
        "colab": {
          "base_uri": "https://localhost:8080/"
        },
        "id": "1hoAJp4O-HyX",
        "outputId": "2b9b2dbd-9b95-486f-b6aa-616e9af20aca"
      },
      "execution_count": 9,
      "outputs": [
        {
          "output_type": "stream",
          "name": "stderr",
          "text": [
            "WARNING:root:This is a warning\n",
            "ERROR:root:This is an error\n"
          ]
        }
      ]
    },
    {
      "cell_type": "code",
      "source": [
        "#(8)Write a program to handle a file opening error using exception handling\n",
        "try:\n",
        "    with open(\"example.txt\", \"r\") as file:\n",
        "        print(file.read())\n",
        "except FileNotFoundError:\n",
        "    print(\"File not found.\")\n"
      ],
      "metadata": {
        "colab": {
          "base_uri": "https://localhost:8080/"
        },
        "id": "bOeEjtyu-cT_",
        "outputId": "47ea16df-ac59-493b-8482-d2138ec37ba7"
      },
      "execution_count": 10,
      "outputs": [
        {
          "output_type": "stream",
          "name": "stdout",
          "text": [
            "File not found.\n"
          ]
        }
      ]
    },
    {
      "cell_type": "code",
      "source": [
        "#(9)How can you read a file line by line and store its content in a list in Python\n",
        "try:\n",
        "    with open('filename.txt', 'r') as file:\n",
        "        lines = [line.strip() for line in file]\n",
        "except FileNotFoundError:\n",
        "    print(\"Error: The file 'filename.txt' was not found.\")\n",
        "except Exception as e:\n",
        "    print(f\"An error occurred: {e}\")"
      ],
      "metadata": {
        "colab": {
          "base_uri": "https://localhost:8080/"
        },
        "id": "4hbThBB7-5bw",
        "outputId": "22fcff05-868a-4563-c38b-6bc1fbe0cb23"
      },
      "execution_count": 12,
      "outputs": [
        {
          "output_type": "stream",
          "name": "stdout",
          "text": [
            "Error: The file 'filename.txt' was not found.\n"
          ]
        }
      ]
    },
    {
      "cell_type": "code",
      "source": [
        "#(10)How can you append data to an existing file in Python\n",
        "with open('filename.txt', 'a') as f:\n",
        "    f.write('New data\\n')\n"
      ],
      "metadata": {
        "id": "E3gLmgFY_JQ1"
      },
      "execution_count": 13,
      "outputs": []
    },
    {
      "cell_type": "code",
      "source": [
        "#(11)Write a Python program that uses a try-except block to handle an error when attempting to access a\n",
        "#dictionary key that doesn't exist\n",
        "def access_dictionary_key():\n",
        "    my_dict = {\n",
        "        'name': 'Alice',\n",
        "        'age': 30,\n",
        "        'city': 'New York'\n",
        "    }\n",
        "\n",
        "    key_to_access = input(\"Enter the key you want to access: \")\n",
        "\n",
        "    try:\n",
        "        value = my_dict[key_to_access]\n",
        "        print(f\"The value for '{key_to_access}' is: {value}\")\n",
        "    except KeyError:\n",
        "        print(f\"Error: The key '{key_to_access}' does not exist in the dictionary.\")\n",
        "\n",
        "if __name__ == \"__main__\":\n",
        "    access_dictionary_key()\n"
      ],
      "metadata": {
        "colab": {
          "base_uri": "https://localhost:8080/"
        },
        "id": "lbL_-vHP_dwG",
        "outputId": "a06acf11-cc04-49ef-dc6a-135bab3b57a7"
      },
      "execution_count": 14,
      "outputs": [
        {
          "output_type": "stream",
          "name": "stdout",
          "text": [
            "Enter the key you want to access: my_dict\n",
            "Error: The key 'my_dict' does not exist in the dictionary.\n"
          ]
        }
      ]
    },
    {
      "cell_type": "code",
      "source": [
        "#(12)Write a program that demonstrates using multiple except blocks to handle different types of exceptions short ans\n",
        "try:\n",
        "    num = int(input(\"Enter a number: \"))\n",
        "    result = 10 / num\n",
        "    print(\"Result:\", result)\n",
        "except ValueError:\n",
        "    print(\"Invalid input! Please enter a number.\")\n",
        "except ZeroDivisionError:\n",
        "    print(\"Cannot divide by zero!\")\n"
      ],
      "metadata": {
        "colab": {
          "base_uri": "https://localhost:8080/"
        },
        "id": "qNL2L6Zl_w2I",
        "outputId": "d13530a7-682e-4139-8eb9-8764bcd5752d"
      },
      "execution_count": 15,
      "outputs": [
        {
          "output_type": "stream",
          "name": "stdout",
          "text": [
            "Enter a number: 5\n",
            "Result: 2.0\n"
          ]
        }
      ]
    },
    {
      "cell_type": "code",
      "source": [
        "#(13)How would you check if a file exists before attempting to read it in Python\n",
        "import os\n",
        "if os.path.exists('file.txt'):\n",
        "    with open('file.txt') as f:\n",
        "        print(f.read())\n",
        "\n",
        "from pathlib import Path\n",
        "if Path('file.txt').exists():\n",
        "    print(Path('file.txt').read_text())\n"
      ],
      "metadata": {
        "id": "wZSCelcaANY8"
      },
      "execution_count": 16,
      "outputs": []
    },
    {
      "cell_type": "code",
      "source": [
        "#(14)Write a program that uses the logging module to log both informational and error messages\n",
        "import logging\n",
        "\n",
        "# Configure logging\n",
        "import logging\n",
        "\n",
        "# Configure logging\n",
        "logging.basicConfig(level=logging.INFO, format='%(levelname)s: %(message)s')\n",
        "\n",
        "def divide(a, b):\n",
        "    logging.info(f\"Dividing {a} by {b}\")\n",
        "    try:\n",
        "        result = a / b\n",
        "        logging.info(f\"Result: {result}\")\n",
        "    except ZeroDivisionError:\n",
        "        logging.error(\"Error: Division by zero\")\n",
        "\n",
        "# Test the function\n",
        "divide(10, 2)\n",
        "divide(5, 0)\n",
        "\n",
        "\n",
        "\n"
      ],
      "metadata": {
        "colab": {
          "base_uri": "https://localhost:8080/"
        },
        "id": "EVPAOZtSAu5J",
        "outputId": "b2f44d2a-a309-4b9a-ecf0-b7eede01d5c4"
      },
      "execution_count": 19,
      "outputs": [
        {
          "output_type": "stream",
          "name": "stderr",
          "text": [
            "ERROR:root:Error: Division by zero\n"
          ]
        }
      ]
    },
    {
      "cell_type": "code",
      "source": [
        "#(15) Write a Python program that prints the content of a file and handles the case when the file is empty\n",
        "def print_file_content(file_path):\n",
        "    try:\n",
        "        with open(file_path, 'r') as file:\n",
        "            content = file.read()\n",
        "            if content:\n",
        "                print(\"File content:\\n\", content)\n",
        "            else:\n",
        "                print(\"The file is empty.\")\n",
        "    except FileNotFoundError:\n",
        "        print(\"File not found.\")\n",
        "    except Exception as e:\n",
        "        print(\"An error occurred:\", e)\n",
        "\n",
        "# Example usage\n",
        "print_file_content(\"example.txt\")\n"
      ],
      "metadata": {
        "colab": {
          "base_uri": "https://localhost:8080/"
        },
        "id": "n2HX06zyBCpx",
        "outputId": "5c7b0788-267f-4118-8d03-a75484f6ccfe"
      },
      "execution_count": 20,
      "outputs": [
        {
          "output_type": "stream",
          "name": "stdout",
          "text": [
            "File not found.\n"
          ]
        }
      ]
    },
    {
      "cell_type": "code",
      "source": [
        "#(16)Demonstrate how to use memory profiling to check the memory usage of a small program\n",
        "import tracemalloc\n",
        "\n",
        "tracemalloc.start()\n",
        "# your code here\n",
        "current, peak = tracemalloc.get_traced_memory()\n",
        "print(f\"Current: {current}, Peak: {peak}\")\n",
        "tracemalloc.stop()\n"
      ],
      "metadata": {
        "colab": {
          "base_uri": "https://localhost:8080/"
        },
        "id": "bYbF6VJRCj4C",
        "outputId": "dccb665c-c7e4-4009-ba68-c91a29d7eb5d"
      },
      "execution_count": 29,
      "outputs": [
        {
          "output_type": "stream",
          "name": "stdout",
          "text": [
            "Current: 992, Peak: 11634\n"
          ]
        }
      ]
    },
    {
      "cell_type": "code",
      "source": [
        "#(17)Write a Python program to create and write a list of numbers to a file, one number per line\n",
        "numbers = [1, 2, 3, 4, 5]\n",
        "with open('numbers.txt', 'w') as f:\n",
        "    for num in numbers:\n",
        "        f.write(f\"{num}\\n\")\n"
      ],
      "metadata": {
        "id": "eBV5aWe3DSE4"
      },
      "execution_count": 31,
      "outputs": []
    },
    {
      "cell_type": "code",
      "source": [
        "#(18)How would you implement a basic logging setup that logs to a file with rotation after 1MB\n",
        "import logging\n",
        "from logging.handlers import RotatingFileHandler\n",
        "\n",
        "logger = logging.getLogger(\"my_logger\")\n",
        "logger.setLevel(logging.INFO)\n",
        "\n",
        "handler = RotatingFileHandler(\"app.log\", maxBytes=1_000_000, backupCount=5)\n",
        "handler.setFormatter(logging.Formatter('%(asctime)s - %(levelname)s - %(message)s'))\n",
        "\n",
        "logger.addHandler(handler)\n",
        "logger.info(\"Logging with rotation after 1MB\")\n"
      ],
      "metadata": {
        "colab": {
          "base_uri": "https://localhost:8080/"
        },
        "id": "-3czCb82DwHD",
        "outputId": "690841ba-c9dd-4578-a531-44dbf8b555bd"
      },
      "execution_count": 32,
      "outputs": [
        {
          "output_type": "stream",
          "name": "stderr",
          "text": [
            "INFO:my_logger:Logging with rotation after 1MB\n"
          ]
        }
      ]
    },
    {
      "cell_type": "code",
      "source": [
        "#(19)Write a program that handles both IndexError and KeyError using a try-except block\n",
        "def handle_errors():\n",
        "    my_list = [10, 20, 30]\n",
        "    my_dict = {'a': 1, 'b': 2}\n",
        "\n",
        "    try:\n",
        "        # Attempt to access an index that doesn't exist\n",
        "        print(\"List value at index 5:\", my_list[5])\n",
        "\n",
        "        # Attempt to access a key that doesn't exist\n",
        "        print(\"Value for key 'z':\", my_dict['z'])\n",
        "\n",
        "    except IndexError:\n",
        "        print(\"Caught an IndexError: list index is out of range.\")\n",
        "\n",
        "    except KeyError:\n",
        "        print(\"Caught a KeyError: key not found in dictionary.\")\n",
        "\n",
        "if __name__ == \"__main__\":\n",
        "    handle_errors()\n"
      ],
      "metadata": {
        "colab": {
          "base_uri": "https://localhost:8080/"
        },
        "id": "Ef7QYeePEqtk",
        "outputId": "65c2ab24-ea60-44cd-835e-c0b4433b6bb7"
      },
      "execution_count": 36,
      "outputs": [
        {
          "output_type": "stream",
          "name": "stdout",
          "text": [
            "Caught an IndexError: list index is out of range.\n"
          ]
        }
      ]
    },
    {
      "cell_type": "code",
      "source": [
        "#(20)How would you open a file and read its contents using a context manager in Python\n",
        "# Open and read a file using a context manager\n",
        "try:\n",
        "    with open('example.txt', 'r') as file:\n",
        "        contents = file.read()\n",
        "    print(contents)\n",
        "except FileNotFoundError:\n",
        "    print(\"Error: The file 'example.txt' was not found.\")"
      ],
      "metadata": {
        "colab": {
          "base_uri": "https://localhost:8080/"
        },
        "id": "yrDh_RE5E1SI",
        "outputId": "19879c90-ce7a-411e-db5a-ebec4cadf4dc"
      },
      "execution_count": 38,
      "outputs": [
        {
          "output_type": "stream",
          "name": "stdout",
          "text": [
            "Error: The file 'example.txt' was not found.\n"
          ]
        }
      ]
    },
    {
      "cell_type": "code",
      "source": [
        "#(21)Write a Python program that reads a file and prints the number of occurrences of a specific word\n",
        "filename = input(\"Enter file name: \")\n",
        "word = input(\"Enter word to count: \")\n",
        "\n",
        "try:\n",
        "    with open(filename, 'r', encoding='utf-8') as f:\n",
        "        text = f.read().lower()\n",
        "        count = text.split().count(word.lower())\n",
        "        print(f\"'{word}' appears {count} times.\")\n",
        "except FileNotFoundError:\n",
        "    print(f\"Error: The file '{filename}' was not found.\")\n",
        "except Exception as e:\n",
        "    print(f\"An error occurred: {e}\")"
      ],
      "metadata": {
        "colab": {
          "base_uri": "https://localhost:8080/"
        },
        "id": "ayKNgLYVFDwe",
        "outputId": "222f3a3e-59fa-4a6e-ee82-73519dadd6bc"
      },
      "execution_count": 40,
      "outputs": [
        {
          "output_type": "stream",
          "name": "stdout",
          "text": [
            "Enter file name: sample.txt\n",
            "Enter word to count: word1\n",
            "Error: The file 'sample.txt' was not found.\n"
          ]
        }
      ]
    },
    {
      "cell_type": "code",
      "source": [
        "#(22)How can you check if a file is empty before attempting to read its contents\n",
        "import os\n",
        "\n",
        "try:\n",
        "    if os.path.getsize('file.txt') == 0:\n",
        "        print(\"File is empty\")\n",
        "    else:\n",
        "        print(\"File has content\")\n",
        "except FileNotFoundError:\n",
        "    print(\"Error: The file 'file.txt' was not found.\")\n",
        "except Exception as e:\n",
        "    print(f\"An error occurred: {e}\")"
      ],
      "metadata": {
        "colab": {
          "base_uri": "https://localhost:8080/"
        },
        "id": "rlVveprpFnN8",
        "outputId": "791ee6d2-0a0d-4b16-ded3-7e7cabc9f679"
      },
      "execution_count": 42,
      "outputs": [
        {
          "output_type": "stream",
          "name": "stdout",
          "text": [
            "Error: The file 'file.txt' was not found.\n"
          ]
        }
      ]
    },
    {
      "cell_type": "code",
      "source": [
        "#(23)Write a Python program that writes to a log file when an error occurs during file handling\n",
        "import logging\n",
        "\n",
        "logging.basicConfig(filename='error_log.txt', level=logging.ERROR)\n",
        "\n",
        "try:\n",
        "    with open('file.txt', 'r') as f:\n",
        "        print(f.read())\n",
        "except Exception as e:\n",
        "    logging.error(f\"Error: {e}\")\n"
      ],
      "metadata": {
        "colab": {
          "base_uri": "https://localhost:8080/"
        },
        "id": "zTzz3TQrGaHA",
        "outputId": "81bade38-d6f1-4876-c5a8-7ced4f1c0a50"
      },
      "execution_count": 43,
      "outputs": [
        {
          "output_type": "stream",
          "name": "stderr",
          "text": [
            "ERROR:root:Error: [Errno 2] No such file or directory: 'file.txt'\n"
          ]
        }
      ]
    },
    {
      "cell_type": "code",
      "source": [],
      "metadata": {
        "id": "jdhfwz1fG3RG"
      },
      "execution_count": null,
      "outputs": []
    }
  ]
}